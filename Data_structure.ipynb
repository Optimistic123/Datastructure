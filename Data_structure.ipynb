{
  "nbformat": 4,
  "nbformat_minor": 0,
  "metadata": {
    "colab": {
      "name": "Data structure.ipynb",
      "provenance": [],
      "toc_visible": true,
      "authorship_tag": "ABX9TyPC06tMTM8iD0w0xNFkyMpd",
      "include_colab_link": true
    },
    "kernelspec": {
      "name": "python3",
      "display_name": "Python 3"
    }
  },
  "cells": [
    {
      "cell_type": "markdown",
      "metadata": {
        "id": "view-in-github",
        "colab_type": "text"
      },
      "source": [
        "<a href=\"https://colab.research.google.com/github/Optimistic123/Datastructure/blob/master/Data_structure.ipynb\" target=\"_parent\"><img src=\"https://colab.research.google.com/assets/colab-badge.svg\" alt=\"Open In Colab\"/></a>"
      ]
    },
    {
      "cell_type": "markdown",
      "metadata": {
        "id": "ATF7SA98gjj2",
        "colab_type": "text"
      },
      "source": [
        "# Stack "
      ]
    },
    {
      "cell_type": "code",
      "metadata": {
        "id": "tSeKaAFJG1lM",
        "colab_type": "code",
        "colab": {}
      },
      "source": [
        "class Stack:\n",
        "    def __init__(self):\n",
        "        self.items = []\n",
        "\n",
        "    def __len__(self):\n",
        "        return self.size()\n",
        "    \n",
        "    def size(self):\n",
        "        return len(self.items)\n",
        "\n",
        "    def add_ele(self,data):\n",
        "        self.items.append(data)\n",
        "\n",
        "    def rmove_ele(self):\n",
        "        if not self.is_empty():\n",
        "            return self.items.pop()\n",
        "            \n",
        "\n",
        "    def peek(self):\n",
        "        if not self.is_empty():\n",
        "            return self.items[-1]\n",
        "\n",
        "    def is_empty(self):\n",
        "        return self.items == []\n",
        "\n",
        "    def prnt_ele(self):\n",
        "        return self.items\n",
        "\n",
        "    def __str__(self):\n",
        "        s = \"\"\n",
        "        for i in range(len(self.items)):\n",
        "            s += str(self.items[i].value) + \"-\"\n",
        "        return s"
      ],
      "execution_count": 0,
      "outputs": []
    },
    {
      "cell_type": "code",
      "metadata": {
        "id": "M9CWE9Qih9cd",
        "colab_type": "code",
        "colab": {}
      },
      "source": [
        "s = Stack()"
      ],
      "execution_count": 0,
      "outputs": []
    },
    {
      "cell_type": "code",
      "metadata": {
        "id": "gx2FY1rxiusk",
        "colab_type": "code",
        "colab": {}
      },
      "source": [
        "s.add_ele('a')\n",
        "s.add_ele('b')\n",
        "s.add_ele('c')\n",
        "s.add_ele('d')"
      ],
      "execution_count": 0,
      "outputs": []
    },
    {
      "cell_type": "code",
      "metadata": {
        "id": "35E3vpWbi5aU",
        "colab_type": "code",
        "outputId": "33ea863f-b30d-429c-e757-354c25fb20d0",
        "colab": {
          "base_uri": "https://localhost:8080/",
          "height": 34
        }
      },
      "source": [
        "s.prnt_ele()"
      ],
      "execution_count": 75,
      "outputs": [
        {
          "output_type": "execute_result",
          "data": {
            "text/plain": [
              "['a', 'b', 'c', 'd']"
            ]
          },
          "metadata": {
            "tags": []
          },
          "execution_count": 75
        }
      ]
    },
    {
      "cell_type": "code",
      "metadata": {
        "id": "EAlgpk4kjGKD",
        "colab_type": "code",
        "colab": {}
      },
      "source": [
        "s.rmove_ele()"
      ],
      "execution_count": 0,
      "outputs": []
    },
    {
      "cell_type": "code",
      "metadata": {
        "id": "4RXPMMCXjMCE",
        "colab_type": "code",
        "outputId": "12ac23e7-4ffb-4473-f635-066b18cc6f32",
        "colab": {
          "base_uri": "https://localhost:8080/",
          "height": 34
        }
      },
      "source": [
        "s.prnt_ele()"
      ],
      "execution_count": 77,
      "outputs": [
        {
          "output_type": "execute_result",
          "data": {
            "text/plain": [
              "['a', 'b', 'c']"
            ]
          },
          "metadata": {
            "tags": []
          },
          "execution_count": 77
        }
      ]
    },
    {
      "cell_type": "code",
      "metadata": {
        "id": "UrsEzvNzjT6a",
        "colab_type": "code",
        "outputId": "0c95235b-d737-43db-a3b1-8b981683645d",
        "colab": {
          "base_uri": "https://localhost:8080/",
          "height": 34
        }
      },
      "source": [
        "s.peek()"
      ],
      "execution_count": 78,
      "outputs": [
        {
          "output_type": "execute_result",
          "data": {
            "text/plain": [
              "'c'"
            ]
          },
          "metadata": {
            "tags": []
          },
          "execution_count": 78
        }
      ]
    },
    {
      "cell_type": "code",
      "metadata": {
        "id": "3q2GJNJkjYZQ",
        "colab_type": "code",
        "outputId": "bfe4f738-06b4-4117-eac3-d510db6f0ced",
        "colab": {
          "base_uri": "https://localhost:8080/",
          "height": 34
        }
      },
      "source": [
        "s.is_empty()"
      ],
      "execution_count": 79,
      "outputs": [
        {
          "output_type": "execute_result",
          "data": {
            "text/plain": [
              "False"
            ]
          },
          "metadata": {
            "tags": []
          },
          "execution_count": 79
        }
      ]
    },
    {
      "cell_type": "code",
      "metadata": {
        "id": "dnUkJlibjdTX",
        "colab_type": "code",
        "colab": {}
      },
      "source": [
        ""
      ],
      "execution_count": 0,
      "outputs": []
    },
    {
      "cell_type": "markdown",
      "metadata": {
        "id": "k4z5StRrkMo-",
        "colab_type": "text"
      },
      "source": [
        "# Singly Linked list"
      ]
    },
    {
      "cell_type": "code",
      "metadata": {
        "id": "KpKa2tG5kSrI",
        "colab_type": "code",
        "colab": {}
      },
      "source": [
        "class Node:\n",
        "    def __init__(self,data):\n",
        "        self.data = data \n",
        "        self.next = None\n",
        "\n",
        "class llist:\n",
        "    def __init__(self):\n",
        "        self.head = None \n",
        "     \n",
        "    #adding new elemen to list\n",
        "    def append(self,data):\n",
        "        new_node = Node(data)\n",
        "\n",
        "        if self.head is None:\n",
        "            self.head = new_node\n",
        "        else :\n",
        "            last_node = self.head\n",
        "            while last_node.next:\n",
        "                last_node = last_node.next\n",
        "            last_node.next = new_node\n",
        "\n",
        "    def printl(self):\n",
        "        cur_node = self.head\n",
        "        while cur_node:\n",
        "            print(cur_node.data)\n",
        "            cur_node = cur_node.next\n",
        "\n",
        "    def prepnad(self,data):\n",
        "        #case 1: there is no element\n",
        "        if self.head is None:\n",
        "            new_node = Node(data)\n",
        "            self.head = new_node\n",
        "        #case2 : if there is element already\n",
        "        else:\n",
        "            new_node = Node(data)\n",
        "            new_node.next = self.head\n",
        "            self.head = new_node\n",
        "\n",
        "    #insert after a given key\n",
        "    def IAK(self,data,key):\n",
        "        cur = self.head\n",
        "        if cur.next is None and cur.data == key:\n",
        "            self.append(data)\n",
        "            return\n",
        "        while cur.data != key:\n",
        "            cur = cur.next\n",
        "        new_node = Node(data)\n",
        "        new_node.next = cur.next\n",
        "        cur.next = new_node\n",
        "\n",
        "    # delete node at position(DNAP)\n",
        "    def DNAP(self,pos):\n",
        "        cur_node = self.head\n",
        "        if pos == 0 :\n",
        "            self.head = cur_node.next\n",
        "            cur_node = None\n",
        "        #iterate to get the location\n",
        "        prev = None\n",
        "        count = 1\n",
        "        while cur_node and count != pos:\n",
        "            prev = cur_node\n",
        "            cur_node = cur_node.next\n",
        "            count += 1\n",
        "        if cur_node is None:\n",
        "            return\n",
        "        \n",
        "        prev.next = cur_node.next \n",
        "        cur_node= None\n"
      ],
      "execution_count": 0,
      "outputs": []
    },
    {
      "cell_type": "code",
      "metadata": {
        "id": "FrV56Uoeminn",
        "colab_type": "code",
        "colab": {}
      },
      "source": [
        "L = llist()"
      ],
      "execution_count": 0,
      "outputs": []
    },
    {
      "cell_type": "code",
      "metadata": {
        "id": "DBzz1RTUm2pl",
        "colab_type": "code",
        "colab": {}
      },
      "source": [
        "L.append('a')\n",
        "L.append('b')\n",
        "L.append('c')\n",
        "L.append('d')"
      ],
      "execution_count": 0,
      "outputs": []
    },
    {
      "cell_type": "code",
      "metadata": {
        "id": "n69y7ENHnDAI",
        "colab_type": "code",
        "outputId": "d9cd33c8-3fdc-4f63-d533-5f343a54ecb7",
        "colab": {
          "base_uri": "https://localhost:8080/",
          "height": 84
        }
      },
      "source": [
        "L.printl()"
      ],
      "execution_count": 0,
      "outputs": [
        {
          "output_type": "stream",
          "text": [
            "a\n",
            "b\n",
            "c\n",
            "d\n"
          ],
          "name": "stdout"
        }
      ]
    },
    {
      "cell_type": "code",
      "metadata": {
        "id": "MPIe0UkgNIDS",
        "colab_type": "code",
        "colab": {}
      },
      "source": [
        "L.prepnad('e')"
      ],
      "execution_count": 0,
      "outputs": []
    },
    {
      "cell_type": "code",
      "metadata": {
        "id": "TvgguqpINQUF",
        "colab_type": "code",
        "outputId": "a0dd4eb4-d12e-4602-fac8-8b16a04fe0f0",
        "colab": {
          "base_uri": "https://localhost:8080/",
          "height": 101
        }
      },
      "source": [
        "L.printl()"
      ],
      "execution_count": 0,
      "outputs": [
        {
          "output_type": "stream",
          "text": [
            "e\n",
            "a\n",
            "b\n",
            "c\n",
            "d\n"
          ],
          "name": "stdout"
        }
      ]
    },
    {
      "cell_type": "code",
      "metadata": {
        "id": "ehilBZvCNR5d",
        "colab_type": "code",
        "colab": {}
      },
      "source": [
        "L.IAK('G','c')"
      ],
      "execution_count": 0,
      "outputs": []
    },
    {
      "cell_type": "code",
      "metadata": {
        "id": "r-IhXvwYNZN7",
        "colab_type": "code",
        "outputId": "3ab04c28-7fce-430b-b2d8-32a5942ccd0a",
        "colab": {
          "base_uri": "https://localhost:8080/",
          "height": 118
        }
      },
      "source": [
        "L.printl()"
      ],
      "execution_count": 0,
      "outputs": [
        {
          "output_type": "stream",
          "text": [
            "e\n",
            "a\n",
            "b\n",
            "c\n",
            "G\n",
            "d\n"
          ],
          "name": "stdout"
        }
      ]
    },
    {
      "cell_type": "code",
      "metadata": {
        "id": "WfKV1s93NarY",
        "colab_type": "code",
        "colab": {}
      },
      "source": [
        "L.DNAP(4)"
      ],
      "execution_count": 0,
      "outputs": []
    },
    {
      "cell_type": "code",
      "metadata": {
        "id": "BX-bbgJtNiL3",
        "colab_type": "code",
        "outputId": "76bcff4f-3995-4873-8f81-219e91669d22",
        "colab": {
          "base_uri": "https://localhost:8080/",
          "height": 101
        }
      },
      "source": [
        "L.printl()"
      ],
      "execution_count": 0,
      "outputs": [
        {
          "output_type": "stream",
          "text": [
            "e\n",
            "a\n",
            "b\n",
            "G\n",
            "d\n"
          ],
          "name": "stdout"
        }
      ]
    },
    {
      "cell_type": "code",
      "metadata": {
        "id": "MLV2DI1xNj9k",
        "colab_type": "code",
        "colab": {}
      },
      "source": [
        "L.DNAP(0)"
      ],
      "execution_count": 0,
      "outputs": []
    },
    {
      "cell_type": "code",
      "metadata": {
        "id": "kx8-K8DdNoG-",
        "colab_type": "code",
        "outputId": "53f7e2db-df8a-4083-aa64-f7df0d752fab",
        "colab": {
          "base_uri": "https://localhost:8080/",
          "height": 84
        }
      },
      "source": [
        "L.printl()"
      ],
      "execution_count": 0,
      "outputs": [
        {
          "output_type": "stream",
          "text": [
            "a\n",
            "b\n",
            "G\n",
            "d\n"
          ],
          "name": "stdout"
        }
      ]
    },
    {
      "cell_type": "markdown",
      "metadata": {
        "id": "eVhxJTF7QMT1",
        "colab_type": "text"
      },
      "source": [
        "# DoublyLinked List"
      ]
    },
    {
      "cell_type": "code",
      "metadata": {
        "id": "nVaPOec4PbGX",
        "colab_type": "code",
        "colab": {}
      },
      "source": [
        "class Node:\n",
        "    def __init__(self,data):\n",
        "        self.data = data \n",
        "        self.next = None\n",
        "        self.prev = None\n",
        "class Doublyll:\n",
        "    def __init__(self):\n",
        "        self.head = None\n",
        "\n",
        "    def append(self,data):\n",
        "        new_node = Node(data)\n",
        "        if self.head is None:\n",
        "            self.head = new_node\n",
        "            new_node.prev = None\n",
        "        #iterate to get at last location\n",
        "        else:\n",
        "            last_node = self.head\n",
        "            while last_node.next:\n",
        "                last_node = last_node.next\n",
        "            last_node.next = new_node\n",
        "            new_node.next = None\n",
        "            new_node.prev = last_node\n",
        "    \n",
        "    def printl(self):\n",
        "        cur_node = self.head\n",
        "        while cur_node:\n",
        "            print(cur_node.data)\n",
        "            cur_node = cur_node.next\n",
        "\n",
        "    def prepand(self,data):\n",
        "        new_node = Node(data)\n",
        "        if self.head is None:\n",
        "            self.head = new_node\n",
        "            new_node.prev = None\n",
        "        else:\n",
        "            cur = self.head \n",
        "            self.head = new_node\n",
        "            new_node.next = cur\n",
        "            new_node.prev = None\n",
        "\n",
        "    #insertion after key\n",
        "    def IAK(self,key,data):\n",
        "        \n",
        "        cur_node = self.head\n",
        "        if cur_node.next is None and cur_node.data == key:\n",
        "            self.append(data)\n",
        "            return\n",
        "        else:\n",
        "            while cur_node.data != key:\n",
        "                cur_node = cur_node.next\n",
        "            new_node = Node(data)\n",
        "            nxt = cur_node.next\n",
        "            cur_node.next = new_node\n",
        "            new_node.next = nxt\n",
        "            new_node.prev = cur_node\n",
        "\n",
        "    #insertion before key\n",
        "    def BAK(self,key,data):\n",
        "        cur_node = self.head\n",
        "\n",
        "        if cur_node.next is None and cur_node.data== key:\n",
        "            self.prepand(data)\n",
        "            return\n",
        "        else:\n",
        "            while cur_node.data != key:\n",
        "                cur_node = cur_node.next\n",
        "            new_node = Node(data)\n",
        "            prev = cur_node.prev\n",
        "            prev.next = new_node\n",
        "            new_node.next = cur_node\n",
        "            new_node.prev = prev\n",
        "\n",
        "    #delete a node\n",
        "    def delete(self,key):\n",
        "        cur_node = self.head\n",
        "        while cur_node:\n",
        "            if cur_node.data == key and cur_node== self.head:\n",
        "                #case 1 only a single node is there\n",
        "                if not cur_node.next:\n",
        "                    # cur_node.next = None\n",
        "                    # cur_node.prev = None\n",
        "                    cur_node = None\n",
        "                    self.head = None\n",
        "                    return\n",
        "                    \n",
        "                #case 2 if there is only two node\n",
        "                else:\n",
        "                    nxt = cur_node.next\n",
        "                    cur_node.next = None\n",
        "                    nxt.prev = None\n",
        "                    cur_node = None\n",
        "                    self.head = nxt\n",
        "                    return\n",
        "\n",
        "            elif cur_node.data == key:\n",
        "                #case 3 node is between two different node\n",
        "                if cur_node.next:\n",
        "                    nxt = cur_node.next\n",
        "                    prev = cur_node.prev\n",
        "                    prev.next = nxt\n",
        "                    nxt.prev = prev\n",
        "                    cur_node.next = None\n",
        "                    cur_node.prev = None\n",
        "                    cur_node = None\n",
        "                    return\n",
        "                \n",
        "                # case 4 node is the last node\n",
        "                else:\n",
        "                    prev = cur_node.prev\n",
        "                    prev.next = None\n",
        "                    cur_node.prev = None\n",
        "                    cur_node = None\n",
        "                    return\n",
        "            cur_node = cur_node.next"
      ],
      "execution_count": 0,
      "outputs": []
    },
    {
      "cell_type": "code",
      "metadata": {
        "id": "QD5yL5VBTMve",
        "colab_type": "code",
        "colab": {}
      },
      "source": [
        "ll = Doublyll()"
      ],
      "execution_count": 0,
      "outputs": []
    },
    {
      "cell_type": "code",
      "metadata": {
        "id": "Ux9bT0-0T6cQ",
        "colab_type": "code",
        "colab": {}
      },
      "source": [
        "ll.append('a')\n",
        "ll.append('b')\n",
        "ll.append('c')\n",
        "ll.append('d')"
      ],
      "execution_count": 0,
      "outputs": []
    },
    {
      "cell_type": "code",
      "metadata": {
        "id": "ojZiTw3_UDbw",
        "colab_type": "code",
        "outputId": "bcf41167-96b5-4031-af25-deb56d952ff3",
        "colab": {
          "base_uri": "https://localhost:8080/",
          "height": 84
        }
      },
      "source": [
        "ll.printl()"
      ],
      "execution_count": 0,
      "outputs": [
        {
          "output_type": "stream",
          "text": [
            "a\n",
            "b\n",
            "c\n",
            "d\n"
          ],
          "name": "stdout"
        }
      ]
    },
    {
      "cell_type": "code",
      "metadata": {
        "id": "lqb-TiTME6Lq",
        "colab_type": "code",
        "colab": {}
      },
      "source": [
        "ll.prepand('K')"
      ],
      "execution_count": 0,
      "outputs": []
    },
    {
      "cell_type": "code",
      "metadata": {
        "id": "PSuQakj7UVPA",
        "colab_type": "code",
        "outputId": "c2931afa-53e6-413b-d37a-7e04146fcfc6",
        "colab": {
          "base_uri": "https://localhost:8080/",
          "height": 101
        }
      },
      "source": [
        "ll.printl()"
      ],
      "execution_count": 0,
      "outputs": [
        {
          "output_type": "stream",
          "text": [
            "K\n",
            "a\n",
            "b\n",
            "c\n",
            "d\n"
          ],
          "name": "stdout"
        }
      ]
    },
    {
      "cell_type": "code",
      "metadata": {
        "id": "3b5gJsp2FPqQ",
        "colab_type": "code",
        "colab": {}
      },
      "source": [
        "ll.IAK('d','L')"
      ],
      "execution_count": 0,
      "outputs": []
    },
    {
      "cell_type": "code",
      "metadata": {
        "id": "r3SxK7yKXkia",
        "colab_type": "code",
        "outputId": "c563fd39-45d4-48ce-e731-b53c7883e980",
        "colab": {
          "base_uri": "https://localhost:8080/",
          "height": 118
        }
      },
      "source": [
        "ll.printl()"
      ],
      "execution_count": 0,
      "outputs": [
        {
          "output_type": "stream",
          "text": [
            "K\n",
            "a\n",
            "b\n",
            "c\n",
            "d\n",
            "L\n"
          ],
          "name": "stdout"
        }
      ]
    },
    {
      "cell_type": "code",
      "metadata": {
        "id": "pIx_8bJuXmP_",
        "colab_type": "code",
        "colab": {}
      },
      "source": [
        "ll.BAK('c','O')"
      ],
      "execution_count": 0,
      "outputs": []
    },
    {
      "cell_type": "code",
      "metadata": {
        "id": "67fsXhidaK0y",
        "colab_type": "code",
        "outputId": "50958d06-0ff4-48f8-c808-ed1be002ed9b",
        "colab": {
          "base_uri": "https://localhost:8080/",
          "height": 134
        }
      },
      "source": [
        "ll.printl()"
      ],
      "execution_count": 0,
      "outputs": [
        {
          "output_type": "stream",
          "text": [
            "K\n",
            "a\n",
            "b\n",
            "O\n",
            "c\n",
            "d\n",
            "L\n"
          ],
          "name": "stdout"
        }
      ]
    },
    {
      "cell_type": "code",
      "metadata": {
        "id": "VvJsAsRFaMgP",
        "colab_type": "code",
        "colab": {}
      },
      "source": [
        "ll.delete('O')"
      ],
      "execution_count": 0,
      "outputs": []
    },
    {
      "cell_type": "code",
      "metadata": {
        "id": "Q4tdVD1KcD7C",
        "colab_type": "code",
        "outputId": "a3d717b5-edc2-4fc8-ffb2-24fb4b2e9b2a",
        "colab": {
          "base_uri": "https://localhost:8080/",
          "height": 118
        }
      },
      "source": [
        "ll.printl()"
      ],
      "execution_count": 0,
      "outputs": [
        {
          "output_type": "stream",
          "text": [
            "K\n",
            "a\n",
            "b\n",
            "c\n",
            "d\n",
            "L\n"
          ],
          "name": "stdout"
        }
      ]
    },
    {
      "cell_type": "code",
      "metadata": {
        "id": "2VUatDhQeNYy",
        "colab_type": "code",
        "colab": {}
      },
      "source": [
        "ll.delete('K')"
      ],
      "execution_count": 0,
      "outputs": []
    },
    {
      "cell_type": "code",
      "metadata": {
        "id": "xTnUuA1otTR_",
        "colab_type": "code",
        "outputId": "a6d1a5a0-4c2a-4af8-c1d7-e1900f138516",
        "colab": {
          "base_uri": "https://localhost:8080/",
          "height": 101
        }
      },
      "source": [
        "ll.printl()"
      ],
      "execution_count": 0,
      "outputs": [
        {
          "output_type": "stream",
          "text": [
            "a\n",
            "b\n",
            "c\n",
            "d\n",
            "L\n"
          ],
          "name": "stdout"
        }
      ]
    },
    {
      "cell_type": "markdown",
      "metadata": {
        "id": "oVziFWev5e98",
        "colab_type": "text"
      },
      "source": [
        "#Queue"
      ]
    },
    {
      "cell_type": "code",
      "metadata": {
        "id": "PbukCmwj5qV2",
        "colab_type": "code",
        "colab": {}
      },
      "source": [
        "class Queue:\n",
        "    def __init__(self):\n",
        "        self.items = []\n",
        "    \n",
        "    #considering first as front and last as rear of list\n",
        "    def enqueue(self,data):\n",
        "        self.items.insert(0,data)\n",
        "\n",
        "    def is_empty(self):\n",
        "        return len(self.items) == 0\n",
        "\n",
        "    def dequeue(self):\n",
        "        if not self.is_empty():\n",
        "            return self.items.pop()\n",
        "    \n",
        "    def __len__(self):\n",
        "        return self.size()\n",
        "    \n",
        "    def size(self):\n",
        "        return len(self.items)\n",
        "\n",
        "    def peek(self):\n",
        "        if not self.is_empty():\n",
        "            return self.items[-1]\n",
        "\n",
        "    def printq(self):\n",
        "        return self.items\n"
      ],
      "execution_count": 0,
      "outputs": []
    },
    {
      "cell_type": "code",
      "metadata": {
        "id": "DYcFCgnaEYGr",
        "colab_type": "code",
        "colab": {}
      },
      "source": [
        "queue = Queue()"
      ],
      "execution_count": 0,
      "outputs": []
    },
    {
      "cell_type": "code",
      "metadata": {
        "id": "RY5wUAn4EeZb",
        "colab_type": "code",
        "colab": {}
      },
      "source": [
        "queue.enqueue(1)\n",
        "queue.enqueue(2)\n",
        "queue.enqueue(3)"
      ],
      "execution_count": 0,
      "outputs": []
    },
    {
      "cell_type": "code",
      "metadata": {
        "id": "XAQgMJyuEfOJ",
        "colab_type": "code",
        "colab": {
          "base_uri": "https://localhost:8080/",
          "height": 34
        },
        "outputId": "39922d61-7b64-416b-e6b5-6a315c4f1102"
      },
      "source": [
        "queue.printq()"
      ],
      "execution_count": 14,
      "outputs": [
        {
          "output_type": "execute_result",
          "data": {
            "text/plain": [
              "[3, 2, 1]"
            ]
          },
          "metadata": {
            "tags": []
          },
          "execution_count": 14
        }
      ]
    },
    {
      "cell_type": "code",
      "metadata": {
        "id": "7UJ2VIGLHBcl",
        "colab_type": "code",
        "colab": {
          "base_uri": "https://localhost:8080/",
          "height": 34
        },
        "outputId": "b80b2881-7e15-4cf9-f543-a21e61413458"
      },
      "source": [
        "queue.dequeue()"
      ],
      "execution_count": 15,
      "outputs": [
        {
          "output_type": "execute_result",
          "data": {
            "text/plain": [
              "1"
            ]
          },
          "metadata": {
            "tags": []
          },
          "execution_count": 15
        }
      ]
    },
    {
      "cell_type": "code",
      "metadata": {
        "id": "Oc_s0f_xEfdp",
        "colab_type": "code",
        "colab": {
          "base_uri": "https://localhost:8080/",
          "height": 34
        },
        "outputId": "d1954990-7d68-47bd-f367-e7167422f279"
      },
      "source": [
        "queue.peek()"
      ],
      "execution_count": 16,
      "outputs": [
        {
          "output_type": "execute_result",
          "data": {
            "text/plain": [
              "2"
            ]
          },
          "metadata": {
            "tags": []
          },
          "execution_count": 16
        }
      ]
    },
    {
      "cell_type": "markdown",
      "metadata": {
        "id": "QSfQ10qpYsJs",
        "colab_type": "text"
      },
      "source": [
        "#Binary tree"
      ]
    },
    {
      "cell_type": "markdown",
      "metadata": {
        "id": "uQy8XBFUlZ_z",
        "colab_type": "text"
      },
      "source": [
        "1.)DFS"
      ]
    },
    {
      "cell_type": "code",
      "metadata": {
        "id": "cF3db13CYuQ6",
        "colab_type": "code",
        "colab": {}
      },
      "source": [
        "class Node:\n",
        "    def __init__(self,value):\n",
        "        self.value = value\n",
        "        self.left = None\n",
        "        self.right = None\n",
        "    \n",
        "class BT:\n",
        "    def __init__(self,root):\n",
        "        self.root = Node(root)            # starting element of tree is root\n",
        "\n",
        "    def print_tree(self, traversal_type):\n",
        "        if traversal_type == \"preorder_print\":\n",
        "            return self.preorder_print(tree.root, \"\")\n",
        "        elif traversal_type == \"inorder_print\":\n",
        "            return self.inorder_print(tree.root, \"\")\n",
        "        elif traversal_type == \"postorder_print\":\n",
        "            return self.postorder_print(tree.root, \"\")\n",
        "        elif traversal_type == \"levelorder_print\":\n",
        "            return self.levelorder_print(tree.root)\n",
        "        elif traversal_type == \"reverse_levelorder_print\":\n",
        "            return self.reverse_levelorder_print(tree.root)\n",
        "\n",
        "        else:\n",
        "            print(\"Traversal type \" + str(traversal_type) + \" is not supported.\")\n",
        "            return False\n",
        "\n",
        "    def preorder_print(self,start,traversal):\n",
        "        if start:\n",
        "            traversal += str(start.value) + '.'\n",
        "            traversal = self.preorder_print(start.left,traversal)\n",
        "            traversal = self.preorder_print(start.right ,traversal)\n",
        "        return traversal\n",
        "\n",
        "    def inorder_print(self,start,traversal):\n",
        "        if start:\n",
        "            traversal = self.inorder_print(start.left,traversal)\n",
        "            traversal += str(start.value) + '.'\n",
        "            traversal = self.inorder_print(start.right,traversal)\n",
        "        return traversal\n",
        "    \n",
        "    def postorder_print(self,start,traversal):\n",
        "        if start:\n",
        "            traversal =self.postorder_print(start.left,traversal)\n",
        "            traversal = self.postorder_print(start.right,traversal)\n",
        "            traversal += str(start.value) + '.'\n",
        "        return traversal\n",
        "\n",
        "    def levelorder_print(self,start):\n",
        "        if start is None:\n",
        "            return\n",
        "        \n",
        "        queue = Queue()\n",
        "        queue.enqueue(start)\n",
        "        traversal = ''\n",
        "        while len(queue) > 0 :\n",
        "            traversal += str(queue.peek()) + ','\n",
        "            node = queue.dequeue()\n",
        "\n",
        "            if node.left:\n",
        "                queue.enqueue(node.left)\n",
        "            if node.right :\n",
        "                queue.enqueue(node.right)\n",
        "        return traversal\n",
        "\n",
        "    \n",
        "    def reverse_levelorder_print(self,start):\n",
        "        if start is None:\n",
        "            return\n",
        "        queue = Queue()\n",
        "        stack = Stack()\n",
        "        queue.enqueue(start)\n",
        "\n",
        "        traversal = ''\n",
        "\n",
        "        while len(queue) >0:\n",
        "            node = queue.dequeue()\n",
        "            stack.add_ele(node)\n",
        "\n",
        "            if node.right:\n",
        "                queue.enqueue(node.right)\n",
        "            if node.left:\n",
        "                queue.enqueue(node.left)\n",
        "\n",
        "        while len(stack) > 0:\n",
        "            \n",
        "            traversal += str(stack.rmove_ele())+ '-'\n",
        "        return traversal\n",
        "             \n",
        "\n",
        "                \n",
        "\n",
        "\n"
      ],
      "execution_count": 0,
      "outputs": []
    },
    {
      "cell_type": "code",
      "metadata": {
        "id": "U_lvORNRiDw3",
        "colab_type": "code",
        "colab": {}
      },
      "source": [
        "tree = BT"
      ],
      "execution_count": 0,
      "outputs": []
    },
    {
      "cell_type": "code",
      "metadata": {
        "id": "uMsm0DOgZl0g",
        "colab_type": "code",
        "colab": {}
      },
      "source": [
        "tree = BT(1)\n",
        "tree.root.left = Node(2)\n",
        "tree.root.right = Node(3)\n",
        "tree.root.left.left = Node(4)\n",
        "tree.root.left.right = Node(5)\n",
        "tree.root.right.left = Node(6)\n",
        "tree.root.right.right = Node(2)"
      ],
      "execution_count": 0,
      "outputs": []
    },
    {
      "cell_type": "code",
      "metadata": {
        "id": "IfE3QXlwUmIG",
        "colab_type": "code",
        "colab": {
          "base_uri": "https://localhost:8080/",
          "height": 34
        },
        "outputId": "946b2849-7421-4157-f342-31f3d300f073"
      },
      "source": [
        "print(tree.print_tree('preorder_print'))"
      ],
      "execution_count": 129,
      "outputs": [
        {
          "output_type": "stream",
          "text": [
            "1.2.4.5.3.6.2.\n"
          ],
          "name": "stdout"
        }
      ]
    },
    {
      "cell_type": "code",
      "metadata": {
        "id": "ggNxqy3jUtot",
        "colab_type": "code",
        "colab": {
          "base_uri": "https://localhost:8080/",
          "height": 34
        },
        "outputId": "ed19a89d-b34e-4a6d-c869-199ff723eb9f"
      },
      "source": [
        "print(tree.print_tree('postorder_print'))"
      ],
      "execution_count": 130,
      "outputs": [
        {
          "output_type": "stream",
          "text": [
            "4.5.2.6.2.3.1.\n"
          ],
          "name": "stdout"
        }
      ]
    },
    {
      "cell_type": "code",
      "metadata": {
        "id": "JxDurKW1abm5",
        "colab_type": "code",
        "colab": {
          "base_uri": "https://localhost:8080/",
          "height": 34
        },
        "outputId": "89cf05cd-dfa8-4e83-c221-c17b0c7479ef"
      },
      "source": [
        "print(tree.postorder_print(tree.root,''))"
      ],
      "execution_count": 131,
      "outputs": [
        {
          "output_type": "stream",
          "text": [
            "4.5.2.6.2.3.1.\n"
          ],
          "name": "stdout"
        }
      ]
    },
    {
      "cell_type": "code",
      "metadata": {
        "id": "eo9ESWxPUzGj",
        "colab_type": "code",
        "colab": {
          "base_uri": "https://localhost:8080/",
          "height": 34
        },
        "outputId": "aac0292c-57de-45d7-f3f8-6e89dbd9c69f"
      },
      "source": [
        "print(tree.print_tree('inorder_print'))"
      ],
      "execution_count": 132,
      "outputs": [
        {
          "output_type": "stream",
          "text": [
            "4.2.5.1.6.3.2.\n"
          ],
          "name": "stdout"
        }
      ]
    },
    {
      "cell_type": "code",
      "metadata": {
        "id": "u-TpxrTVdItT",
        "colab_type": "code",
        "colab": {
          "base_uri": "https://localhost:8080/",
          "height": 34
        },
        "outputId": "765fccb3-b862-41cc-83fe-971b812374e5"
      },
      "source": [
        "tree.inorder_print(tree.root,'')"
      ],
      "execution_count": 133,
      "outputs": [
        {
          "output_type": "execute_result",
          "data": {
            "text/plain": [
              "'4.2.5.1.6.3.2.'"
            ]
          },
          "metadata": {
            "tags": []
          },
          "execution_count": 133
        }
      ]
    },
    {
      "cell_type": "code",
      "metadata": {
        "id": "kFQD-gwgkwB7",
        "colab_type": "code",
        "colab": {
          "base_uri": "https://localhost:8080/",
          "height": 34
        },
        "outputId": "c9e36707-640c-4dcb-ccf9-07a4f0a5910e"
      },
      "source": [
        "tree.levelorder_print(tree.root)"
      ],
      "execution_count": 134,
      "outputs": [
        {
          "output_type": "execute_result",
          "data": {
            "text/plain": [
              "'1,2,3,4,5,6,2,'"
            ]
          },
          "metadata": {
            "tags": []
          },
          "execution_count": 134
        }
      ]
    },
    {
      "cell_type": "code",
      "metadata": {
        "id": "GzqQLktuQlqh",
        "colab_type": "code",
        "colab": {
          "base_uri": "https://localhost:8080/",
          "height": 54
        },
        "outputId": "56889c98-8290-4b36-ca04-ec32412cf177"
      },
      "source": [
        "tree.reverse_levelorder_print(tree.root)"
      ],
      "execution_count": 135,
      "outputs": [
        {
          "output_type": "execute_result",
          "data": {
            "text/plain": [
              "'<__main__.Node object at 0x7fbbd437dbe0>-<__main__.Node object at 0x7fbbd437dd68>-<__main__.Node object at 0x7fbbd437d668>-<__main__.Node object at 0x7fbbd437d828>-<__main__.Node object at 0x7fbbd437db70>-<__main__.Node object at 0x7fbbd437d978>-<__main__.Node object at 0x7fbbd437def0>-'"
            ]
          },
          "metadata": {
            "tags": []
          },
          "execution_count": 135
        }
      ]
    },
    {
      "cell_type": "code",
      "metadata": {
        "id": "ZRzPs5iFWpZv",
        "colab_type": "code",
        "colab": {}
      },
      "source": [
        ""
      ],
      "execution_count": 0,
      "outputs": []
    }
  ]
}