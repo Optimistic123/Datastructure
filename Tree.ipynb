{
  "nbformat": 4,
  "nbformat_minor": 0,
  "metadata": {
    "colab": {
      "name": "Tree.ipynb",
      "provenance": [],
      "collapsed_sections": [
        "vSmx-S_2E6u-",
        "ttuzZ5OPIlQj",
        "7xJe-WE0Tr2F",
        "BX5DKVbw_Jis",
        "xmkFFIe7NNYt"
      ],
      "toc_visible": true,
      "authorship_tag": "ABX9TyPolvckECpHa+HahKTTIE0C",
      "include_colab_link": true
    },
    "kernelspec": {
      "display_name": "Python 3",
      "name": "python3"
    }
  },
  "cells": [
    {
      "cell_type": "markdown",
      "metadata": {
        "id": "view-in-github",
        "colab_type": "text"
      },
      "source": [
        "<a href=\"https://colab.research.google.com/github/Optimistic123/Datastructure/blob/master/Tree.ipynb\" target=\"_parent\"><img src=\"https://colab.research.google.com/assets/colab-badge.svg\" alt=\"Open In Colab\"/></a>"
      ]
    },
    {
      "cell_type": "markdown",
      "metadata": {
        "id": "Eb-6OxPJBRrk"
      },
      "source": [
        "# **`#Construct Tree and print`**\r\n",
        "\r\n"
      ]
    },
    {
      "cell_type": "code",
      "metadata": {
        "colab": {
          "base_uri": "https://localhost:8080/"
        },
        "id": "x3B3sjUT_eTp",
        "outputId": "0f33058a-e53e-4382-9a0e-3447c4df8d5c"
      },
      "source": [
        "class TreeNodeGeneric:\r\n",
        "    def __init__(self,data):\r\n",
        "        self.data = data\r\n",
        "        self.children = []\r\n",
        "    \r\n",
        "\r\n",
        "def generateGT(arr):\r\n",
        "\r\n",
        "    root = None\r\n",
        "    stack = []\r\n",
        "    for i in range(len(arr)):\r\n",
        "        if arr[i] == -1:\r\n",
        "            stack.pop()\r\n",
        "        else:\r\n",
        "            Node = TreeNodeGeneric(arr[i])\r\n",
        "\r\n",
        "            if len(stack) > 0:\r\n",
        "                parent = stack[-1]\r\n",
        "                parent.children.append(Node)\r\n",
        "            else:\r\n",
        "                root = Node\r\n",
        "            stack.append(Node)\r\n",
        "    return root\r\n",
        "\r\n",
        "def display(root):\r\n",
        "\r\n",
        "    #step : 2 --> so we will attach root children along with that\r\n",
        "    print(root.data , end = '-->') \r\n",
        "    for children in root.children:\r\n",
        "        print(children.data , end =  ' ')\r\n",
        "    print()\r\n",
        "\r\n",
        "    # step : 1 --> we have faith that children knows to print their children\r\n",
        "    for children in root.children:\r\n",
        "        display(children)\r\n",
        "    \r\n",
        "\r\n",
        "\r\n",
        "arr = [10,20,50,-1,60,-1,-1,30,70,-1,80,110,-1,120,-1,-1,90,-1,-1,40,100,-1,-1,-1]\r\n",
        "rootGT = generateGT(arr)\r\n",
        "display(rootGT)\r\n",
        "\r\n",
        "\r\n"
      ],
      "execution_count": null,
      "outputs": [
        {
          "output_type": "stream",
          "text": [
            "10-->20 30 40 \n",
            "20-->50 60 \n",
            "50-->\n",
            "60-->\n",
            "30-->70 80 90 \n",
            "70-->\n",
            "80-->110 120 \n",
            "110-->\n",
            "120-->\n",
            "90-->\n",
            "40-->100 \n",
            "100-->\n"
          ],
          "name": "stdout"
        }
      ]
    },
    {
      "cell_type": "code",
      "metadata": {
        "colab": {
          "base_uri": "https://localhost:8080/"
        },
        "id": "agom0mFJkaIR",
        "outputId": "e99e4a6b-71bb-40de-b4ef-dade188fff3d"
      },
      "source": [
        "class TreeNodeBinary:\r\n",
        "    def __init__(self,data):\r\n",
        "        self.data = data\r\n",
        "        self.left = None\r\n",
        "        self.right = None\r\n",
        "\r\n",
        "def generateBT( arr, root, i ) :\r\n",
        "\r\n",
        "    if i < len(arr):\r\n",
        "        #root node \r\n",
        "        temp = TreeNodeBinary(arr[i])\r\n",
        "        root = temp\r\n",
        "\r\n",
        "        #insert in left and right\r\n",
        "        root.left =  generateBT(arr, root.left , 2*i+1)\r\n",
        "        root.right = generateBT(arr, root.right, 2*i+2)\r\n",
        "\r\n",
        "    return root\r\n",
        "\r\n",
        "\r\n",
        "def display(root):\r\n",
        "\r\n",
        "    if root is None:\r\n",
        "        return\r\n",
        "\r\n",
        "    print(root.data, end  = '-->') \r\n",
        "    if root.left:\r\n",
        "        print(root.left.data , end = ' ')\r\n",
        "    if root.right:\r\n",
        "        print(root.right.data , end =' ')\r\n",
        "    print('')\r\n",
        "\r\n",
        "    display(root.left)\r\n",
        "    display(root.right)\r\n",
        "\r\n",
        "\r\n",
        "arr = [1,2,3,4,5,6,7,8,9]\r\n",
        "rootBT = generateBT(arr,1, 0)\r\n",
        "display(rootBT)"
      ],
      "execution_count": 48,
      "outputs": [
        {
          "output_type": "stream",
          "text": [
            "1-->2 3 \n",
            "2-->4 5 \n",
            "4-->8 9 \n",
            "8-->\n",
            "9-->\n",
            "5-->\n",
            "3-->6 7 \n",
            "6-->\n",
            "7-->\n"
          ],
          "name": "stdout"
        }
      ]
    },
    {
      "cell_type": "markdown",
      "metadata": {
        "id": "vSmx-S_2E6u-"
      },
      "source": [
        "#1. Size of Tree(Total Node)"
      ]
    },
    {
      "cell_type": "code",
      "metadata": {
        "colab": {
          "base_uri": "https://localhost:8080/"
        },
        "id": "KUG6GnNIw0xD",
        "outputId": "b9ba0f4d-7b05-42ae-bff9-8133e3336ec5"
      },
      "source": [
        "def Size(root):\r\n",
        "\r\n",
        "    if root is None:\r\n",
        "        return 0\r\n",
        "    left_size  = Size(root.left)\r\n",
        "    right_size = Size(root.right)\r\n",
        "    return  1 + left_size + right_size\r\n",
        "\r\n",
        "    # size  = 0 \r\n",
        "    # if root.left:\r\n",
        "    #     s = Size(root.left)\r\n",
        "    #     size += s\r\n",
        "    # if root.right:\r\n",
        "    #     s= Size(root.right)\r\n",
        "    #     size += s\r\n",
        "    # return size+1\r\n",
        "\r\n",
        "Size(rootBT)"
      ],
      "execution_count": null,
      "outputs": [
        {
          "output_type": "execute_result",
          "data": {
            "text/plain": [
              "9"
            ]
          },
          "metadata": {
            "tags": []
          },
          "execution_count": 45
        }
      ]
    },
    {
      "cell_type": "markdown",
      "metadata": {
        "id": "ttuzZ5OPIlQj"
      },
      "source": [
        "#2.Max node in a Tree\r\n",
        "\r\n",
        "\r\n",
        "\r\n"
      ]
    },
    {
      "cell_type": "code",
      "metadata": {
        "colab": {
          "base_uri": "https://localhost:8080/"
        },
        "id": "Fl49CKL-FhNH",
        "outputId": "e470d89f-394f-4c10-8107-046b3930cd0d"
      },
      "source": [
        "def maxNode(root):\r\n",
        "    if root is None:\r\n",
        "        return 0\r\n",
        " \r\n",
        "    left_max = maxNode(root.left)\r\n",
        "    right_max = maxNode(root.right)\r\n",
        "\r\n",
        "    return max(root.data , left_max, right_max)\r\n",
        "\r\n",
        "maxNode(rootBT)"
      ],
      "execution_count": null,
      "outputs": [
        {
          "output_type": "execute_result",
          "data": {
            "text/plain": [
              "9"
            ]
          },
          "metadata": {
            "tags": []
          },
          "execution_count": 46
        }
      ]
    },
    {
      "cell_type": "markdown",
      "metadata": {
        "id": "7xJe-WE0Tr2F"
      },
      "source": [
        "#3.Height of a Tree"
      ]
    },
    {
      "cell_type": "code",
      "metadata": {
        "colab": {
          "base_uri": "https://localhost:8080/"
        },
        "id": "TM6RZ0XhJMh8",
        "outputId": "4d131929-cd66-4fec-cadb-264e92f80749"
      },
      "source": [
        "def Height(rootBT):\r\n",
        "\r\n",
        "    if rootBT is None:\r\n",
        "        return 0\r\n",
        "    left_height  = Height(rootBT.left)\r\n",
        "    right_height = Height(rootBT.right) \r\n",
        "\r\n",
        "    return 1 + max( left_height , right_height )\r\n",
        "\r\n",
        "\r\n",
        "    # leftH = 0\r\n",
        "    # rightH  = 0\r\n",
        "    # if rootBT.left:\r\n",
        "    #     left_height  = Height(rootBT.left)\r\n",
        "    #     leftH += left_height\r\n",
        "    # if rootBT.right:\r\n",
        "    #     right_height = Height(rootBT.right)\r\n",
        "    #     rightH += right_height\r\n",
        "    # return 1 + max(leftH , rightH)\r\n",
        "\r\n",
        "Height(rootBT)"
      ],
      "execution_count": null,
      "outputs": [
        {
          "output_type": "execute_result",
          "data": {
            "text/plain": [
              "4"
            ]
          },
          "metadata": {
            "tags": []
          },
          "execution_count": 56
        }
      ]
    },
    {
      "cell_type": "markdown",
      "metadata": {
        "id": "BX5DKVbw_Jis"
      },
      "source": [
        "#4.Traversal of a Tree"
      ]
    },
    {
      "cell_type": "code",
      "metadata": {
        "id": "PSET6AS6UO_O"
      },
      "source": [
        "def Traversal(root):\r\n",
        "\r\n",
        "    print(f\"Node pre : {root.data} \")\r\n",
        "\r\n",
        "    if root.left:\r\n",
        "        print(f\"Edge pre : {root.data} --- {root.left.data} \" )\r\n",
        "        Traversal(root.left)\r\n",
        "        print(f\"Edge post : {root.left.data} --- {root.data} \" )\r\n",
        "    if root.right:\r\n",
        "        print(f\"Edge pre : {root.data} --- {root.right.data} \" )\r\n",
        "        Traversal(root.right)\r\n",
        "        print(f\"Edge pre : {root.right.data} --- {root.data} \" )\r\n",
        "\r\n",
        "    print(f\"Node post : {root.data}\")\r\n",
        "\r\n",
        "Traversal(rootBT)"
      ],
      "execution_count": null,
      "outputs": []
    },
    {
      "cell_type": "markdown",
      "metadata": {
        "id": "xmkFFIe7NNYt"
      },
      "source": [
        "#5.Level order traversal"
      ]
    },
    {
      "cell_type": "code",
      "metadata": {
        "colab": {
          "base_uri": "https://localhost:8080/"
        },
        "id": "2k_f6uI9Ah1V",
        "outputId": "9aa3a7bb-7e6b-451c-b241-bf714dd7f301"
      },
      "source": [
        "from collections import deque\r\n",
        "\r\n",
        "def levelOrder(root):\r\n",
        "    Que = deque()\r\n",
        "    Que.append(root)\r\n",
        "  \r\n",
        "    while Que:\r\n",
        "        temp = Que.popleft()\r\n",
        "        print(temp.data,end=\" \")\r\n",
        "        if temp.left:\r\n",
        "            Que.append(temp.left)\r\n",
        "        if temp.right:\r\n",
        "            Que.append(temp.right)\r\n",
        "\r\n",
        "    print(\".\")\r\n",
        "\r\n",
        "levelOrder(rootBT)\r\n",
        "\r\n",
        "\r\n",
        "\r\n"
      ],
      "execution_count": null,
      "outputs": [
        {
          "output_type": "stream",
          "text": [
            "1 2 3 4 5 6 7 8 9 .\n"
          ],
          "name": "stdout"
        }
      ]
    },
    {
      "cell_type": "markdown",
      "metadata": {
        "id": "_jYFx0MPUSL5"
      },
      "source": [
        "#6.Level order"
      ]
    },
    {
      "cell_type": "markdown",
      "metadata": {
        "id": "zbSuzvERifuB"
      },
      "source": [
        "##1. Using two queue "
      ]
    },
    {
      "cell_type": "code",
      "metadata": {
        "colab": {
          "base_uri": "https://localhost:8080/"
        },
        "id": "M2NlBi5kOTfC",
        "outputId": "44e113ab-3390-4e87-a8f0-b505f1b3c04c"
      },
      "source": [
        "from collections import deque\r\n",
        "\r\n",
        "def levelOrder(root):\r\n",
        "    mq = deque()        #main Queue\r\n",
        "    mq.append(root) \r\n",
        "    cq = deque()         #child queue\r\n",
        "  \r\n",
        "    while mq:\r\n",
        "        temp = mq.popleft()\r\n",
        "        print(temp.data,end =' ')\r\n",
        "\r\n",
        "        #if left and right (child is present)-- append to child queue\r\n",
        "        if temp.left:\r\n",
        "            cq.append(temp.left)\r\n",
        "        if temp.right:\r\n",
        "            cq.append(temp.right)\r\n",
        "        \r\n",
        "\r\n",
        "        # if main queue is empty transfer all element from child queue to main queue and empty child queue\r\n",
        "        \r\n",
        "        if len(mq) == 0:\r\n",
        "            mq = cq\r\n",
        "            cq = deque()\r\n",
        "            print(\" \")\r\n",
        "\r\n",
        "levelOrder(rootBT)"
      ],
      "execution_count": null,
      "outputs": [
        {
          "output_type": "stream",
          "text": [
            "1  \n",
            "2 3  \n",
            "4 5 6 7  \n",
            "8 9  \n"
          ],
          "name": "stdout"
        }
      ]
    },
    {
      "cell_type": "markdown",
      "metadata": {
        "id": "dF8IWjqnilu5"
      },
      "source": [
        "##Using one queue"
      ]
    },
    {
      "cell_type": "code",
      "metadata": {
        "colab": {
          "base_uri": "https://localhost:8080/"
        },
        "id": "HxDOfTfXildT",
        "outputId": "ec710b66-63ce-4331-b1c2-599ca66b8839"
      },
      "source": [
        "from collections import deque\r\n",
        "\r\n",
        "\r\n",
        "#Approch 1\r\n",
        "def levelO(root):\r\n",
        "\r\n",
        "    queue = deque() \r\n",
        "    queue.append(root)\r\n",
        "    queue.append(None)\r\n",
        "\r\n",
        "    while queue:\r\n",
        "        temp = queue.popleft()\r\n",
        "        if temp:\r\n",
        "            print(temp.data, end = ' ')\r\n",
        "            if temp.left: \r\n",
        "                queue.append(temp.left)\r\n",
        "            if temp.right:\r\n",
        "                queue.append(temp.right)\r\n",
        "        else:\r\n",
        "            if len(queue):\r\n",
        "                queue.append(None)\r\n",
        "                print(\"\")\r\n",
        "\r\n",
        "#Approch 2\r\n",
        "def levelO1(root):\r\n",
        "    node_list = deque()\r\n",
        "    node_list.append(root)\r\n",
        "\r\n",
        "    while len(node_list) > 0:\r\n",
        "\r\n",
        "        #print all the node present at current level(i.e -- elem in list )\r\n",
        "        for node in list(node_list):\r\n",
        "\r\n",
        "            node_list.popleft()\r\n",
        "            print(node.data , end = ' ')\r\n",
        "            \r\n",
        "            if node.left:\r\n",
        "                node_list.append(node.left)\r\n",
        "            if node.right:\r\n",
        "                node_list.append(node.right)\r\n",
        "        print('')\r\n",
        "\r\n",
        "\r\n",
        "if __name__ == '__main__':          \r\n",
        "    # levelO(rootBT)\r\n",
        "    levelO1(rootBT)\r\n",
        "\r\n",
        "        \r\n",
        "\r\n"
      ],
      "execution_count": 11,
      "outputs": [
        {
          "output_type": "stream",
          "text": [
            "1 \n",
            "2 3 \n",
            "4 5 6 7 \n",
            "8 9 \n"
          ],
          "name": "stdout"
        }
      ]
    },
    {
      "cell_type": "markdown",
      "metadata": {
        "id": "r1ncnKAvichB"
      },
      "source": [
        "##Zig-zag traversal"
      ]
    },
    {
      "cell_type": "code",
      "metadata": {
        "colab": {
          "base_uri": "https://localhost:8080/"
        },
        "id": "LMG_wIJvQTT4",
        "outputId": "d779412f-1e88-4d41-939d-d2c353cf8700"
      },
      "source": [
        "from collections import deque\r\n",
        "\r\n",
        "\r\n",
        "#Approch -1 \r\n",
        "def levelOrder(root):\r\n",
        "\r\n",
        "    main_stack = deque()        #main Queue\r\n",
        "    main_stack.append(root) \r\n",
        "    child_stack = deque()       #child queue\r\n",
        "    level = 1\r\n",
        "\r\n",
        "    while main_stack:\r\n",
        "\r\n",
        "        temp = main_stack.pop()     #3\r\n",
        "        print(temp.data,end =' ')\r\n",
        "        \r\n",
        "\r\n",
        "        # if main_stack:\r\n",
        "        if level % 2 == 0:\r\n",
        "            if temp.left:\r\n",
        "                child_stack.append(temp.left)     \r\n",
        "            if temp.right:\r\n",
        "                child_stack.append(temp.right)   \r\n",
        "        if level % 2 is not 0 :  \r\n",
        "            if temp.right:\r\n",
        "                child_stack.append(temp.right) \r\n",
        "            if temp.left:\r\n",
        "                child_stack.append(temp.left)\r\n",
        "\r\n",
        "        if len(main_stack) == 0:\r\n",
        "            level += 1  \r\n",
        "            main_stack = child_stack\r\n",
        "            child_stack = deque()\r\n",
        "            print(\"\")\r\n",
        "\r\n",
        "\r\n",
        "#Approch - 2\r\n",
        "def zigzag(root):\r\n",
        "\r\n",
        "    queue = deque()\r\n",
        "    queue.append(root)\r\n",
        "    level = 1\r\n",
        "\r\n",
        "    while queue:\r\n",
        "        if level % 2 == 0:\r\n",
        "            for node in list(queue):\r\n",
        "                queue.popleft()\r\n",
        "                print(node.data , end = ' ')\r\n",
        "                \r\n",
        "                if node.left:\r\n",
        "                    queue.append(node.left)\r\n",
        "                if node.right:\r\n",
        "                    queue.append(node.right)\r\n",
        "            level += 1\r\n",
        "            print('')\r\n",
        "        else:\r\n",
        "            for node in list(queue)[::-1]:\r\n",
        "                queue.pop()\r\n",
        "                print(node.data , end = ' ')\r\n",
        "                \r\n",
        "                if node.left:\r\n",
        "                    queue.append(node.left)\r\n",
        "                if node.right:\r\n",
        "                    queue.append(node.right)\r\n",
        "            level += 1\r\n",
        "            print('')\r\n",
        "\r\n",
        "\r\n",
        "if __name__ == \"__main__\":\r\n",
        "    levelOrder(rootBT)\r\n",
        "    # zigzag(rootBT)"
      ],
      "execution_count": 19,
      "outputs": [
        {
          "output_type": "stream",
          "text": [
            "1 \n",
            "2 3 \n",
            "7 6 5 4 \n",
            "8 9 \n"
          ],
          "name": "stdout"
        }
      ]
    },
    {
      "cell_type": "code",
      "metadata": {
        "id": "-TGYLayUX1Ed"
      },
      "source": [
        ""
      ],
      "execution_count": null,
      "outputs": []
    },
    {
      "cell_type": "markdown",
      "metadata": {
        "id": "6aqjoPaFSKuZ"
      },
      "source": [
        "#7.Mirror Tree"
      ]
    },
    {
      "cell_type": "code",
      "metadata": {
        "colab": {
          "base_uri": "https://localhost:8080/"
        },
        "id": "UOBGr7kWSOA5",
        "outputId": "a66d8f41-6be5-4f93-a803-a227b28fbb63"
      },
      "source": [
        "def mirror(root):\r\n",
        "    if root is None:\r\n",
        "        return\r\n",
        "    \r\n",
        "    mirror(root.left)\r\n",
        "    mirror(root.right)\r\n",
        "\r\n",
        "    if root.left and root.right:\r\n",
        "        temp = root.left\r\n",
        "        root.left = root.right\r\n",
        "        root.right = temp\r\n",
        "    elif root.left:\r\n",
        "        root.right = root.left\r\n",
        "    elif root.right:\r\n",
        "        root.left = root.right\r\n",
        "    \r\n",
        "if __name__ == \"__main__\":\r\n",
        "    mirror(rootBT)\r\n",
        "    display(rootBT)\r\n",
        "\r\n",
        "\r\n",
        "\r\n",
        "    "
      ],
      "execution_count": null,
      "outputs": [
        {
          "output_type": "stream",
          "text": [
            "1-->3 2 \n",
            "3-->7 6 \n",
            "7-->\n",
            "6-->\n",
            "2-->5 4 \n",
            "5-->\n",
            "4-->9 8 \n",
            "9-->\n",
            "8-->\n"
          ],
          "name": "stdout"
        }
      ]
    },
    {
      "cell_type": "markdown",
      "metadata": {
        "id": "E56kJfMSTqvM"
      },
      "source": [
        "#8.Linearize Tree"
      ]
    },
    {
      "cell_type": "code",
      "metadata": {
        "id": "uYUYbKxuS0uM",
        "colab": {
          "base_uri": "https://localhost:8080/"
        },
        "outputId": "7a72b419-c3a4-4777-cfb4-4bfcb4772fe5"
      },
      "source": [
        "def linear(root):\r\n",
        "    if root is None:\r\n",
        "        return\r\n",
        "\r\n",
        "    linear(root.left)\r\n",
        "    linear(root.right)\r\n",
        "\r\n",
        "    if root.right and root.left:\r\n",
        "        temp = root\r\n",
        "        while temp.left:\r\n",
        "            temp = temp.left\r\n",
        "        temp.left = root.right\r\n",
        "        root.right = None\r\n",
        "    elif root.right:\r\n",
        "        root.left = root.right\r\n",
        "        root.right = None\r\n",
        "    \r\n",
        "if __name__ == \"__main__\":\r\n",
        "\r\n",
        "    linear(rootBT)\r\n",
        "    display(rootBT)\r\n"
      ],
      "execution_count": 28,
      "outputs": [
        {
          "output_type": "stream",
          "text": [
            "1-->2 \n",
            "2-->4 \n",
            "4-->8 \n",
            "8-->9 \n",
            "9-->5 \n",
            "5-->3 \n",
            "3-->6 \n",
            "6-->7 \n",
            "7-->\n"
          ],
          "name": "stdout"
        }
      ]
    },
    {
      "cell_type": "markdown",
      "metadata": {
        "id": "2AJocRySsoMq"
      },
      "source": [
        "#9.Remove leaf node"
      ]
    },
    {
      "cell_type": "code",
      "metadata": {
        "colab": {
          "base_uri": "https://localhost:8080/"
        },
        "id": "jbkpgnRVZzxW",
        "outputId": "47520300-d90f-487b-a0ce-e9538ea8cef1"
      },
      "source": [
        "def removeLeaf(root):\r\n",
        "\r\n",
        "    if root is None:\r\n",
        "        return\r\n",
        "\r\n",
        "    #check if left or right child is a leaf node\r\n",
        "    if root.left :\r\n",
        "        if isLeaf(root.left):\r\n",
        "            root.left  = None\r\n",
        "    if root.right:\r\n",
        "        if isLeaf(root.right):\r\n",
        "            root.right = None\r\n",
        "\r\n",
        "    removeLeaf(root.left)\r\n",
        "    removeLeaf(root.right)\r\n",
        "\r\n",
        "    \r\n",
        "def isLeaf(root):\r\n",
        "    if( (root.left == None )and (root.right == None)):\r\n",
        "        return True\r\n",
        "    return False\r\n",
        "    \r\n",
        "    \r\n",
        "if __name__ == \"__main__\":\r\n",
        "    removeLeaf(rootBT)\r\n",
        "    display(rootBT)\r\n",
        "\r\n",
        "\r\n",
        "\r\n",
        "\r\n"
      ],
      "execution_count": 47,
      "outputs": [
        {
          "output_type": "stream",
          "text": [
            "1-->2 3 \n",
            "2-->4 \n",
            "4-->\n",
            "3-->\n"
          ],
          "name": "stdout"
        }
      ]
    },
    {
      "cell_type": "markdown",
      "metadata": {
        "id": "ct5en29CMIQG"
      },
      "source": [
        "#10.Find element in a Tree"
      ]
    },
    {
      "cell_type": "code",
      "metadata": {
        "colab": {
          "base_uri": "https://localhost:8080/"
        },
        "id": "Zsihe6mG1U9K",
        "outputId": "34bf7c01-732d-4068-d5f5-7ce73d6a0ea5"
      },
      "source": [
        "from collections import deque\r\n",
        "\r\n",
        "#BFS\r\n",
        "def findElemBFS(root, num):\r\n",
        "    queue = deque()\r\n",
        "    queue.append(root)\r\n",
        "\r\n",
        "    while queue:\r\n",
        "        temp = queue.popleft()\r\n",
        "        if temp.data == num:\r\n",
        "            return True\r\n",
        "        if temp.left:\r\n",
        "            queue.append(temp.left)\r\n",
        "        if temp.right:\r\n",
        "            queue.append(temp.right)\r\n",
        "    return False\r\n",
        "\r\n",
        "#DFS\r\n",
        "def findElemDFS(root, num):\r\n",
        "\r\n",
        "    if root.data == num:\r\n",
        "        return True\r\n",
        "\r\n",
        "    if root.left:\r\n",
        "        if findElemDFS(root.left, num):\r\n",
        "            return True\r\n",
        "    if root.right:\r\n",
        "        if findElemDFS(root.right, num):\r\n",
        "            return True\r\n",
        "    \r\n",
        "    return False\r\n",
        "\r\n",
        "\r\n",
        "if __name__ == \"__main__\":\r\n",
        "    # print(findElemBFS(rootBT, 10))\r\n",
        "    # print(\"\")\r\n",
        "    # print(findElemBFS(rootBT, 5))\r\n",
        "    print(findElemDFS(rootBT, 10))\r\n",
        "    print(\"\")\r\n",
        "    print(findElemDFS(rootBT, 5))\r\n",
        "\r\n",
        "    "
      ],
      "execution_count": 59,
      "outputs": [
        {
          "output_type": "stream",
          "text": [
            "False\n",
            "\n",
            "True\n"
          ],
          "name": "stdout"
        }
      ]
    },
    {
      "cell_type": "code",
      "metadata": {
        "id": "mkyZmrcfNGm_"
      },
      "source": [
        ""
      ],
      "execution_count": null,
      "outputs": []
    }
  ]
}