{
  "nbformat": 4,
  "nbformat_minor": 0,
  "metadata": {
    "colab": {
      "name": "Data structure.ipynb",
      "provenance": [],
      "toc_visible": true
    },
    "kernelspec": {
      "name": "python3",
      "display_name": "Python 3"
    }
  },
  "cells": [
    {
      "cell_type": "markdown",
      "metadata": {
        "id": "ATF7SA98gjj2",
        "colab_type": "text"
      },
      "source": [
        "# Stack "
      ]
    },
    {
      "cell_type": "code",
      "metadata": {
        "id": "tSeKaAFJG1lM",
        "colab_type": "code",
        "colab": {}
      },
      "source": [
        "class Stack:\n",
        "    def __init__(self):\n",
        "        self.items = []\n",
        "\n",
        "    def add_ele(self,data):\n",
        "        self.items.append(data)\n",
        "\n",
        "    def rmove_ele(self):\n",
        "        self.items.pop()\n",
        "\n",
        "    def prnt_ele(self):\n",
        "        return self.items\n",
        "\n",
        "    def is_empty(self):\n",
        "        return self.items == []\n",
        "\n",
        "    def peep(self):\n",
        "        if not self.is_empty():\n",
        "            return self.items[-1]"
      ],
      "execution_count": 0,
      "outputs": []
    },
    {
      "cell_type": "code",
      "metadata": {
        "id": "M9CWE9Qih9cd",
        "colab_type": "code",
        "colab": {}
      },
      "source": [
        "s = Stack()"
      ],
      "execution_count": 0,
      "outputs": []
    },
    {
      "cell_type": "code",
      "metadata": {
        "id": "gx2FY1rxiusk",
        "colab_type": "code",
        "colab": {}
      },
      "source": [
        "s.add_ele('a')\n",
        "s.add_ele('b')\n",
        "s.add_ele('c')\n",
        "s.add_ele('d')"
      ],
      "execution_count": 0,
      "outputs": []
    },
    {
      "cell_type": "code",
      "metadata": {
        "id": "35E3vpWbi5aU",
        "colab_type": "code",
        "outputId": "29505d23-094e-4c94-e828-a8ac63ac207e",
        "colab": {
          "base_uri": "https://localhost:8080/",
          "height": 34
        }
      },
      "source": [
        "s.prnt_ele()"
      ],
      "execution_count": 0,
      "outputs": [
        {
          "output_type": "execute_result",
          "data": {
            "text/plain": [
              "['a', 'b', 'c', 'd']"
            ]
          },
          "metadata": {
            "tags": []
          },
          "execution_count": 13
        }
      ]
    },
    {
      "cell_type": "code",
      "metadata": {
        "id": "EAlgpk4kjGKD",
        "colab_type": "code",
        "colab": {}
      },
      "source": [
        "s.rmove_ele()"
      ],
      "execution_count": 0,
      "outputs": []
    },
    {
      "cell_type": "code",
      "metadata": {
        "id": "4RXPMMCXjMCE",
        "colab_type": "code",
        "outputId": "474700f9-a43c-45cd-a843-b3d4f7a2e45a",
        "colab": {
          "base_uri": "https://localhost:8080/",
          "height": 34
        }
      },
      "source": [
        "s.prnt_ele()"
      ],
      "execution_count": 0,
      "outputs": [
        {
          "output_type": "execute_result",
          "data": {
            "text/plain": [
              "['a', 'b', 'c']"
            ]
          },
          "metadata": {
            "tags": []
          },
          "execution_count": 15
        }
      ]
    },
    {
      "cell_type": "code",
      "metadata": {
        "id": "UrsEzvNzjT6a",
        "colab_type": "code",
        "outputId": "bed8b93d-a7a8-46a9-a485-5883ba795216",
        "colab": {
          "base_uri": "https://localhost:8080/",
          "height": 34
        }
      },
      "source": [
        "s.peep()"
      ],
      "execution_count": 0,
      "outputs": [
        {
          "output_type": "execute_result",
          "data": {
            "text/plain": [
              "'c'"
            ]
          },
          "metadata": {
            "tags": []
          },
          "execution_count": 16
        }
      ]
    },
    {
      "cell_type": "code",
      "metadata": {
        "id": "3q2GJNJkjYZQ",
        "colab_type": "code",
        "outputId": "ff759264-50a1-414b-d1c6-e7ad63574a12",
        "colab": {
          "base_uri": "https://localhost:8080/",
          "height": 34
        }
      },
      "source": [
        "s.is_empty()"
      ],
      "execution_count": 0,
      "outputs": [
        {
          "output_type": "execute_result",
          "data": {
            "text/plain": [
              "False"
            ]
          },
          "metadata": {
            "tags": []
          },
          "execution_count": 17
        }
      ]
    },
    {
      "cell_type": "code",
      "metadata": {
        "id": "dnUkJlibjdTX",
        "colab_type": "code",
        "colab": {}
      },
      "source": [
        ""
      ],
      "execution_count": 0,
      "outputs": []
    },
    {
      "cell_type": "markdown",
      "metadata": {
        "id": "k4z5StRrkMo-",
        "colab_type": "text"
      },
      "source": [
        "# Singly Linked list"
      ]
    },
    {
      "cell_type": "code",
      "metadata": {
        "id": "KpKa2tG5kSrI",
        "colab_type": "code",
        "colab": {}
      },
      "source": [
        "class Node:\n",
        "    def __init__(self,data):\n",
        "        self.data = data \n",
        "        self.next = None\n",
        "\n",
        "class llist:\n",
        "    def __init__(self):\n",
        "        self.head = None \n",
        "     \n",
        "    #adding new elemen to list\n",
        "    def append(self,data):\n",
        "        new_node = Node(data)\n",
        "\n",
        "        if self.head is None:\n",
        "            self.head = new_node\n",
        "        else :\n",
        "            last_node = self.head\n",
        "            while last_node.next:\n",
        "                last_node = last_node.next\n",
        "            last_node.next = new_node\n",
        "\n",
        "    def printl(self):\n",
        "        cur_node = self.head\n",
        "        while cur_node:\n",
        "            print(cur_node.data)\n",
        "            cur_node = cur_node.next\n",
        "\n",
        "    def prepnad(self,data):\n",
        "        #case 1: there is no element\n",
        "        if self.head is None:\n",
        "            new_node = Node(data)\n",
        "            self.head = new_node\n",
        "        #case2 : if there is element already\n",
        "        else:\n",
        "            new_node = Node(data)\n",
        "            new_node.next = self.head\n",
        "            self.head = new_node\n",
        "\n",
        "    #insert after a given key\n",
        "    def IAK(self,data,key):\n",
        "        cur = self.head\n",
        "        if cur.next is None and cur.data == key:\n",
        "            self.append(data)\n",
        "            return\n",
        "        while cur.data != key:\n",
        "            cur = cur.next\n",
        "        new_node = Node(data)\n",
        "        new_node.next = cur.next\n",
        "        cur.next = new_node\n",
        "\n",
        "    # delete node at position(DNAP)\n",
        "    def DNAP(self,pos):\n",
        "        cur_node = self.head\n",
        "        if pos == 0 :\n",
        "            self.head = cur_node.next\n",
        "            cur_node = None\n",
        "        #iterate to get the location\n",
        "        prev = None\n",
        "        count = 1\n",
        "        while cur_node and count != pos:\n",
        "            prev = cur_node\n",
        "            cur_node = cur_node.next\n",
        "            count += 1\n",
        "        if cur_node is None:\n",
        "            return\n",
        "        \n",
        "        prev.next = cur_node.next \n",
        "        cur_node= None\n"
      ],
      "execution_count": 0,
      "outputs": []
    },
    {
      "cell_type": "code",
      "metadata": {
        "id": "FrV56Uoeminn",
        "colab_type": "code",
        "colab": {}
      },
      "source": [
        "L = llist()"
      ],
      "execution_count": 0,
      "outputs": []
    },
    {
      "cell_type": "code",
      "metadata": {
        "id": "DBzz1RTUm2pl",
        "colab_type": "code",
        "colab": {}
      },
      "source": [
        "L.append('a')\n",
        "L.append('b')\n",
        "L.append('c')\n",
        "L.append('d')"
      ],
      "execution_count": 0,
      "outputs": []
    },
    {
      "cell_type": "code",
      "metadata": {
        "id": "n69y7ENHnDAI",
        "colab_type": "code",
        "outputId": "d9cd33c8-3fdc-4f63-d533-5f343a54ecb7",
        "colab": {
          "base_uri": "https://localhost:8080/",
          "height": 84
        }
      },
      "source": [
        "L.printl()"
      ],
      "execution_count": 0,
      "outputs": [
        {
          "output_type": "stream",
          "text": [
            "a\n",
            "b\n",
            "c\n",
            "d\n"
          ],
          "name": "stdout"
        }
      ]
    },
    {
      "cell_type": "code",
      "metadata": {
        "id": "MPIe0UkgNIDS",
        "colab_type": "code",
        "colab": {}
      },
      "source": [
        "L.prepnad('e')"
      ],
      "execution_count": 0,
      "outputs": []
    },
    {
      "cell_type": "code",
      "metadata": {
        "id": "TvgguqpINQUF",
        "colab_type": "code",
        "outputId": "a0dd4eb4-d12e-4602-fac8-8b16a04fe0f0",
        "colab": {
          "base_uri": "https://localhost:8080/",
          "height": 101
        }
      },
      "source": [
        "L.printl()"
      ],
      "execution_count": 0,
      "outputs": [
        {
          "output_type": "stream",
          "text": [
            "e\n",
            "a\n",
            "b\n",
            "c\n",
            "d\n"
          ],
          "name": "stdout"
        }
      ]
    },
    {
      "cell_type": "code",
      "metadata": {
        "id": "ehilBZvCNR5d",
        "colab_type": "code",
        "colab": {}
      },
      "source": [
        "L.IAK('G','c')"
      ],
      "execution_count": 0,
      "outputs": []
    },
    {
      "cell_type": "code",
      "metadata": {
        "id": "r-IhXvwYNZN7",
        "colab_type": "code",
        "outputId": "3ab04c28-7fce-430b-b2d8-32a5942ccd0a",
        "colab": {
          "base_uri": "https://localhost:8080/",
          "height": 118
        }
      },
      "source": [
        "L.printl()"
      ],
      "execution_count": 0,
      "outputs": [
        {
          "output_type": "stream",
          "text": [
            "e\n",
            "a\n",
            "b\n",
            "c\n",
            "G\n",
            "d\n"
          ],
          "name": "stdout"
        }
      ]
    },
    {
      "cell_type": "code",
      "metadata": {
        "id": "WfKV1s93NarY",
        "colab_type": "code",
        "colab": {}
      },
      "source": [
        "L.DNAP(4)"
      ],
      "execution_count": 0,
      "outputs": []
    },
    {
      "cell_type": "code",
      "metadata": {
        "id": "BX-bbgJtNiL3",
        "colab_type": "code",
        "outputId": "76bcff4f-3995-4873-8f81-219e91669d22",
        "colab": {
          "base_uri": "https://localhost:8080/",
          "height": 101
        }
      },
      "source": [
        "L.printl()"
      ],
      "execution_count": 0,
      "outputs": [
        {
          "output_type": "stream",
          "text": [
            "e\n",
            "a\n",
            "b\n",
            "G\n",
            "d\n"
          ],
          "name": "stdout"
        }
      ]
    },
    {
      "cell_type": "code",
      "metadata": {
        "id": "MLV2DI1xNj9k",
        "colab_type": "code",
        "colab": {}
      },
      "source": [
        "L.DNAP(0)"
      ],
      "execution_count": 0,
      "outputs": []
    },
    {
      "cell_type": "code",
      "metadata": {
        "id": "kx8-K8DdNoG-",
        "colab_type": "code",
        "outputId": "53f7e2db-df8a-4083-aa64-f7df0d752fab",
        "colab": {
          "base_uri": "https://localhost:8080/",
          "height": 84
        }
      },
      "source": [
        "L.printl()"
      ],
      "execution_count": 0,
      "outputs": [
        {
          "output_type": "stream",
          "text": [
            "a\n",
            "b\n",
            "G\n",
            "d\n"
          ],
          "name": "stdout"
        }
      ]
    },
    {
      "cell_type": "markdown",
      "metadata": {
        "id": "eVhxJTF7QMT1",
        "colab_type": "text"
      },
      "source": [
        "# DoublyLinked List"
      ]
    },
    {
      "cell_type": "code",
      "metadata": {
        "id": "nVaPOec4PbGX",
        "colab_type": "code",
        "colab": {}
      },
      "source": [
        "class Node:\n",
        "    def __init__(self,data):\n",
        "        self.data = data \n",
        "        self.next = None\n",
        "        self.prev = None\n",
        "class Doublyll:\n",
        "    def __init__(self):\n",
        "        self.head = None\n",
        "\n",
        "    def append(self,data):\n",
        "        new_node = Node(data)\n",
        "        if self.head is None:\n",
        "            self.head = new_node\n",
        "            new_node.prev = None\n",
        "        #iterate to get at last location\n",
        "        else:\n",
        "            last_node = self.head\n",
        "            while last_node.next:\n",
        "                last_node = last_node.next\n",
        "            last_node.next = new_node\n",
        "            new_node.next = None\n",
        "            new_node.prev = last_node\n",
        "    \n",
        "    def printl(self):\n",
        "        cur_node = self.head\n",
        "        while cur_node:\n",
        "            print(cur_node.data)\n",
        "            cur_node = cur_node.next\n",
        "\n",
        "    def prepand(self,data):\n",
        "        new_node = Node(data)\n",
        "        if self.head is None:\n",
        "            self.head = new_node\n",
        "            new_node.prev = None\n",
        "        else:\n",
        "            cur = self.head \n",
        "            self.head = new_node\n",
        "            new_node.next = cur\n",
        "            new_node.prev = None\n",
        "\n",
        "    #insertion after key\n",
        "    def IAK(self,key,data):\n",
        "        \n",
        "        cur_node = self.head\n",
        "        if cur_node.next is None and cur_node.data == key:\n",
        "            self.append(data)\n",
        "            return\n",
        "        else:\n",
        "            while cur_node.data != key:\n",
        "                cur_node = cur_node.next\n",
        "            new_node = Node(data)\n",
        "            nxt = cur_node.next\n",
        "            cur_node.next = new_node\n",
        "            new_node.next = nxt\n",
        "            new_node.prev = cur_node\n",
        "\n",
        "    #insertion before key\n",
        "    def BAK(self,key,data):\n",
        "        cur_node = self.head\n",
        "\n",
        "        if cur_node.next is None and cur_node.data== key:\n",
        "            self.prepand(data)\n",
        "            return\n",
        "        else:\n",
        "            while cur_node.data != key:\n",
        "                cur_node = cur_node.next\n",
        "            new_node = Node(data)\n",
        "            prev = cur_node.prev\n",
        "            prev.next = new_node\n",
        "            new_node.next = cur_node\n",
        "            new_node.prev = prev\n",
        "\n",
        "    #delete a node\n",
        "    def delete(self,key):\n",
        "        cur_node = self.head\n",
        "        while cur_node:\n",
        "            if cur_node.data == key and cur_node== self.head:\n",
        "                #case 1 only a single node is there\n",
        "                if not cur_node.next:\n",
        "                    # cur_node.next = None\n",
        "                    # cur_node.prev = None\n",
        "                    cur_node = None\n",
        "                    self.head = None\n",
        "                    return\n",
        "                    \n",
        "                #case 2 if there is only two node\n",
        "                else:\n",
        "                    nxt = cur_node.next\n",
        "                    cur_node.next = None\n",
        "                    nxt.prev = None\n",
        "                    cur_node = None\n",
        "                    self.head = nxt\n",
        "                    return\n",
        "\n",
        "            elif cur_node.data == key:\n",
        "                #case 3 node is between two different node\n",
        "                if cur_node.next:\n",
        "                    nxt = cur_node.next\n",
        "                    prev = cur_node.prev\n",
        "                    prev.next = nxt\n",
        "                    nxt.prev = prev\n",
        "                    cur_node.next = None\n",
        "                    cur_node.prev = None\n",
        "                    cur_node = None\n",
        "                    return\n",
        "                \n",
        "                # case 4 node is the last node\n",
        "                else:\n",
        "                    prev = cur_node.prev\n",
        "                    prev.next = None\n",
        "                    cur_node.prev = None\n",
        "                    cur_node = None\n",
        "                    return\n",
        "            cur_node = cur_node.next"
      ],
      "execution_count": 0,
      "outputs": []
    },
    {
      "cell_type": "code",
      "metadata": {
        "id": "QD5yL5VBTMve",
        "colab_type": "code",
        "colab": {}
      },
      "source": [
        "ll = Doublyll()"
      ],
      "execution_count": 0,
      "outputs": []
    },
    {
      "cell_type": "code",
      "metadata": {
        "id": "Ux9bT0-0T6cQ",
        "colab_type": "code",
        "colab": {}
      },
      "source": [
        "ll.append('a')\n",
        "ll.append('b')\n",
        "ll.append('c')\n",
        "ll.append('d')"
      ],
      "execution_count": 0,
      "outputs": []
    },
    {
      "cell_type": "code",
      "metadata": {
        "id": "ojZiTw3_UDbw",
        "colab_type": "code",
        "outputId": "bcf41167-96b5-4031-af25-deb56d952ff3",
        "colab": {
          "base_uri": "https://localhost:8080/",
          "height": 84
        }
      },
      "source": [
        "ll.printl()"
      ],
      "execution_count": 160,
      "outputs": [
        {
          "output_type": "stream",
          "text": [
            "a\n",
            "b\n",
            "c\n",
            "d\n"
          ],
          "name": "stdout"
        }
      ]
    },
    {
      "cell_type": "code",
      "metadata": {
        "id": "lqb-TiTME6Lq",
        "colab_type": "code",
        "colab": {}
      },
      "source": [
        "ll.prepand('K')"
      ],
      "execution_count": 0,
      "outputs": []
    },
    {
      "cell_type": "code",
      "metadata": {
        "id": "PSuQakj7UVPA",
        "colab_type": "code",
        "colab": {
          "base_uri": "https://localhost:8080/",
          "height": 101
        },
        "outputId": "c2931afa-53e6-413b-d37a-7e04146fcfc6"
      },
      "source": [
        "ll.printl()"
      ],
      "execution_count": 162,
      "outputs": [
        {
          "output_type": "stream",
          "text": [
            "K\n",
            "a\n",
            "b\n",
            "c\n",
            "d\n"
          ],
          "name": "stdout"
        }
      ]
    },
    {
      "cell_type": "code",
      "metadata": {
        "id": "3b5gJsp2FPqQ",
        "colab_type": "code",
        "colab": {}
      },
      "source": [
        "ll.IAK('d','L')"
      ],
      "execution_count": 0,
      "outputs": []
    },
    {
      "cell_type": "code",
      "metadata": {
        "id": "r3SxK7yKXkia",
        "colab_type": "code",
        "outputId": "c563fd39-45d4-48ce-e731-b53c7883e980",
        "colab": {
          "base_uri": "https://localhost:8080/",
          "height": 118
        }
      },
      "source": [
        "ll.printl()"
      ],
      "execution_count": 164,
      "outputs": [
        {
          "output_type": "stream",
          "text": [
            "K\n",
            "a\n",
            "b\n",
            "c\n",
            "d\n",
            "L\n"
          ],
          "name": "stdout"
        }
      ]
    },
    {
      "cell_type": "code",
      "metadata": {
        "id": "pIx_8bJuXmP_",
        "colab_type": "code",
        "colab": {}
      },
      "source": [
        "ll.BAK('c','O')"
      ],
      "execution_count": 0,
      "outputs": []
    },
    {
      "cell_type": "code",
      "metadata": {
        "id": "67fsXhidaK0y",
        "colab_type": "code",
        "outputId": "50958d06-0ff4-48f8-c808-ed1be002ed9b",
        "colab": {
          "base_uri": "https://localhost:8080/",
          "height": 134
        }
      },
      "source": [
        "ll.printl()"
      ],
      "execution_count": 166,
      "outputs": [
        {
          "output_type": "stream",
          "text": [
            "K\n",
            "a\n",
            "b\n",
            "O\n",
            "c\n",
            "d\n",
            "L\n"
          ],
          "name": "stdout"
        }
      ]
    },
    {
      "cell_type": "code",
      "metadata": {
        "id": "VvJsAsRFaMgP",
        "colab_type": "code",
        "colab": {}
      },
      "source": [
        "ll.delete('O')"
      ],
      "execution_count": 0,
      "outputs": []
    },
    {
      "cell_type": "code",
      "metadata": {
        "id": "Q4tdVD1KcD7C",
        "colab_type": "code",
        "outputId": "a3d717b5-edc2-4fc8-ffb2-24fb4b2e9b2a",
        "colab": {
          "base_uri": "https://localhost:8080/",
          "height": 118
        }
      },
      "source": [
        "ll.printl()"
      ],
      "execution_count": 168,
      "outputs": [
        {
          "output_type": "stream",
          "text": [
            "K\n",
            "a\n",
            "b\n",
            "c\n",
            "d\n",
            "L\n"
          ],
          "name": "stdout"
        }
      ]
    },
    {
      "cell_type": "code",
      "metadata": {
        "id": "2VUatDhQeNYy",
        "colab_type": "code",
        "colab": {}
      },
      "source": [
        "ll.delete('K')"
      ],
      "execution_count": 0,
      "outputs": []
    },
    {
      "cell_type": "code",
      "metadata": {
        "id": "xTnUuA1otTR_",
        "colab_type": "code",
        "colab": {
          "base_uri": "https://localhost:8080/",
          "height": 101
        },
        "outputId": "a6d1a5a0-4c2a-4af8-c1d7-e1900f138516"
      },
      "source": [
        "ll.printl()"
      ],
      "execution_count": 170,
      "outputs": [
        {
          "output_type": "stream",
          "text": [
            "a\n",
            "b\n",
            "c\n",
            "d\n",
            "L\n"
          ],
          "name": "stdout"
        }
      ]
    }
  ]
}