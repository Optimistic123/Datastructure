{
  "nbformat": 4,
  "nbformat_minor": 0,
  "metadata": {
    "colab": {
      "name": "Sorting and Searching.ipynb",
      "provenance": [],
      "toc_visible": true,
      "authorship_tag": "ABX9TyPY5+wbsMjidIePN9uLNBp3",
      "include_colab_link": true
    },
    "kernelspec": {
      "name": "python3",
      "display_name": "Python 3"
    }
  },
  "cells": [
    {
      "cell_type": "markdown",
      "metadata": {
        "id": "view-in-github",
        "colab_type": "text"
      },
      "source": [
        "<a href=\"https://colab.research.google.com/github/Optimistic123/Datastructure/blob/master/Sorting_and_Searching.ipynb\" target=\"_parent\"><img src=\"https://colab.research.google.com/assets/colab-badge.svg\" alt=\"Open In Colab\"/></a>"
      ]
    },
    {
      "cell_type": "markdown",
      "metadata": {
        "id": "6-gsCFW2thAv"
      },
      "source": [
        "#Soarting"
      ]
    },
    {
      "cell_type": "markdown",
      "metadata": {
        "id": "DfxRwJhktpeN"
      },
      "source": [
        "##Insertion sort \n",
        "\n",
        "\n",
        "\n",
        "\n",
        "\n",
        "\n",
        "\n",
        "\n",
        "\n",
        "\n",
        "\n"
      ]
    },
    {
      "cell_type": "code",
      "metadata": {
        "id": "h7y-g823tQ9p",
        "outputId": "8cfac157-059c-4211-884e-da95e0226bc0",
        "colab": {
          "base_uri": "https://localhost:8080/",
          "height": 34
        }
      },
      "source": [
        "a=[9,2,4,7,6,8,3,5]\n",
        "\n",
        "for j in range(1,len(a)):\n",
        "    key = a[j]\n",
        "    i=j-1\n",
        "    while i>=0 and a[i]>key:\n",
        "        a[i+1]=a[i]\n",
        "        i=i-1\n",
        "    a[i+1]=key\n",
        "print(a)\n"
      ],
      "execution_count": null,
      "outputs": [
        {
          "output_type": "stream",
          "text": [
            "[2, 3, 4, 5, 6, 7, 8, 9]\n"
          ],
          "name": "stdout"
        }
      ]
    },
    {
      "cell_type": "markdown",
      "metadata": {
        "id": "cMXF02Tujusd"
      },
      "source": [
        "##Merge Sort"
      ]
    },
    {
      "cell_type": "markdown",
      "metadata": {
        "id": "a1ggJdbYkBh6"
      },
      "source": [
        "##1\n"
      ]
    },
    {
      "cell_type": "code",
      "metadata": {
        "id": "eoGowDDenNxE",
        "outputId": "e569f2ee-7da2-49d5-91f0-e6a0714c744c",
        "colab": {
          "base_uri": "https://localhost:8080/",
          "height": 34
        }
      },
      "source": [
        "def merge(arr, l, m, r): \n",
        "    n1 = m - l + 1\n",
        "    n2 = r- m \n",
        " \n",
        "    L = [0] * (n1) \n",
        "    R = [0] * (n2) \n",
        "    print(l,m)\n",
        "    # Copy data to temp arrays L[] and R[] \n",
        "    for i in range(0 , n1): \n",
        "        L[i] = arr[l + i] \n",
        " \n",
        "    for j in range(0 , n2): \n",
        "        R[j] = arr[m + 1 + j] \n",
        " \n",
        "    i = 0     # Initial index of first subarray \n",
        "    j = 0     # Initial index of second subarray \n",
        "    k = l     # Initial index of merged subarray \n",
        " \n",
        "    while i < n1 and j < n2 : \n",
        "        if L[i] <= R[j]: \n",
        "            arr[k] = L[i] \n",
        "            i += 1\n",
        "        else: \n",
        "            arr[k] = R[j] \n",
        "            j += 1\n",
        "        k += 1\n",
        " \n",
        "    # Copy the remaining elements of L[], if there are any \n",
        "    while i < n1: \n",
        "        arr[k] = L[i] \n",
        "        i += 1\n",
        "        k += 1\n",
        " \n",
        "    # Copy the remaining elements of R[], if there are any \n",
        "    while j < n2: \n",
        "        arr[k] = R[j] \n",
        "        j += 1\n",
        "        k += 1\n",
        " \n",
        " \n",
        "def mergeSort(arr,l,r): \n",
        "    if l < r: \n",
        "        m = int((l+(r-1))/2)\n",
        "        mergeSort(arr, l, m) \n",
        "        mergeSort(arr, m+1, r) \n",
        "    \tmerge(arr, l, m, r) \n",
        " \n",
        " \n",
        "arr = [12, 11, 13, 5, 6, 7] \n",
        "n = len(arr) \n",
        "print (\"Given array is\") \n",
        "for i in range(n): \n",
        "    print (\"%d\" %arr[i]), \n",
        " \n",
        "mergeSort(arr,0,n-1) \n",
        "print (\"\\n\\nSorted array is\") \n",
        "for i in range(n): \n",
        "    print (\"%d\" %arr[i]), "
      ],
      "execution_count": null,
      "outputs": [
        {
          "output_type": "stream",
          "text": [
            "[17, 20, 26, 31, 44, 54, 55, 77, 93]\n"
          ],
          "name": "stdout"
        }
      ]
    },
    {
      "cell_type": "markdown",
      "metadata": {
        "id": "6HZAzKRSkFDH"
      },
      "source": [
        "##2"
      ]
    },
    {
      "cell_type": "code",
      "metadata": {
        "id": "b1knjReGkHtP"
      },
      "source": [
        "def mergeSort(nlist):\n",
        "    print(\"Splitting \",nlist)\n",
        "    if len(nlist)>1:\n",
        "        mid = len(nlist)//2\n",
        "        lefthalf = nlist[:mid]\n",
        "        righthalf = nlist[mid:]\n",
        " \n",
        "        mergeSort(lefthalf)\n",
        "        mergeSort(righthalf)\n",
        "\n",
        "        #Merge step\n",
        "        i=0       #index for left sub array\n",
        "        j=0       # index for right sub arry\n",
        "        k=0       # index for resultant merged array\n",
        "        while i < len(lefthalf) and j < len(righthalf):\n",
        "            if lefthalf[i] < righthalf[j]:\n",
        "                nlist[k]=lefthalf[i]\n",
        "                i=i+1\n",
        "            else:\n",
        "                nlist[k]=righthalf[j]\n",
        "                j=j+1 \n",
        "            k=k+1\n",
        " \n",
        "        while i < len(lefthalf):\n",
        "            nlist[k]=lefthalf[i]\n",
        "            i=i+1\n",
        "            k=k+1\n",
        " \n",
        "        while j < len(righthalf):\n",
        "            nlist[k]=righthalf[j]\n",
        "            j=j+1\n",
        "            k=k+1\n",
        "    print('')\n",
        " \n",
        "nlist = [3,1,4,1,5,9,2,6,5,4]\n",
        "mergeSort(nlist)\n",
        "print(nlist)"
      ],
      "execution_count": null,
      "outputs": []
    },
    {
      "cell_type": "markdown",
      "metadata": {
        "id": "Rob4icjgNMpu"
      },
      "source": [
        "##Bubble sort"
      ]
    },
    {
      "cell_type": "code",
      "metadata": {
        "id": "BjAwMPmJNOUP",
        "outputId": "5d118774-0877-4475-a96c-db35ead02af7",
        "colab": {
          "base_uri": "https://localhost:8080/",
          "height": 34
        }
      },
      "source": [
        "A=[9,2,4,7,6,8,3,5]\n",
        "for i in range(0,len(A)-1):\n",
        "    for j in range(0,len(A)-i-1):\n",
        "        if A[j]>A[j+1]:\n",
        "            A[j],A[j+1] = A[j+1],A[j]\n",
        "print(A)"
      ],
      "execution_count": null,
      "outputs": [
        {
          "output_type": "stream",
          "text": [
            "[2, 3, 4, 5, 6, 7, 8, 9]\n"
          ],
          "name": "stdout"
        }
      ]
    },
    {
      "cell_type": "markdown",
      "metadata": {
        "id": "AIPm5Bezl5-K"
      },
      "source": [
        "##Quick sort"
      ]
    },
    {
      "cell_type": "code",
      "metadata": {
        "id": "d2TpDIlCwGMR",
        "outputId": "f7ded12b-6c7f-4168-9739-0e5fbeccdaff",
        "colab": {
          "base_uri": "https://localhost:8080/",
          "height": 50
        }
      },
      "source": [
        "def partition(arr,low,high): \n",
        "    i = ( low-1 )         # index of smaller element \n",
        "    pivot = arr[high]     # pivot \n",
        "  \n",
        "    for j in range(low , high): \n",
        "        if   arr[j] <= pivot: \n",
        "           # increment index of smaller element \n",
        "            i = i+1 \n",
        "            arr[i],arr[j] = arr[j],arr[i] \n",
        "  \n",
        "    arr[i+1],arr[high] = arr[high],arr[i+1] \n",
        "    return (i+1) \n",
        "  \n",
        "# The main function that implements QuickSort \n",
        "# arr[] --> Array to be sorted, \n",
        "# low  --> Starting index, \n",
        "# high  --> Ending index \n",
        "  \n",
        "# Function to do Quick sort \n",
        "def quickSort(arr,low,high): \n",
        "    if low < high: \n",
        "  \n",
        "        # pi is partitioning index, arr[p] is now at right place \n",
        "        pi = partition(arr,low,high) \n",
        "  \n",
        "        # Separately sort elements before partition and after partition \n",
        "        quickSort(arr, low, pi-1) \n",
        "        quickSort(arr, pi+1, high) \n",
        "  \n",
        "# Driver code to test above \n",
        "arr = [10, 7, 8, 9, 1, 5] \n",
        "n = len(arr) \n",
        "quickSort(arr,0,n-1) \n",
        "print (\"Sorted array is:\") \n",
        "for i in range(n): \n",
        "    print (arr[i],end =' ')\n",
        "\n",
        "#print(arr)"
      ],
      "execution_count": null,
      "outputs": [
        {
          "output_type": "stream",
          "text": [
            "Sorted array is:\n",
            "1 5 7 8 9 10 "
          ],
          "name": "stdout"
        }
      ]
    },
    {
      "cell_type": "code",
      "metadata": {
        "id": "wF3X4OBlz-Zx",
        "outputId": "a9c3b981-fc7c-4868-c893-bb5e2ac390e0",
        "colab": {
          "base_uri": "https://localhost:8080/",
          "height": 34
        }
      },
      "source": [
        "def quick_sort(sequence):\n",
        "    length = len(sequence)\n",
        "    if length <= 1:\n",
        "        return sequence\n",
        "    else:\n",
        "        pivot = sequence.pop()\n",
        "\n",
        "    items_greater = []\n",
        "    items_lower = []\n",
        "\n",
        "    for item in sequence:\n",
        "        if item >pivot:\n",
        "            items_greater.append(item)\n",
        "\n",
        "        else:\n",
        "            items_lower.append(item)\n",
        "\n",
        "    return quick_sort(items_lower) + [pivot] + quick_sort(items_greater)\n",
        "\n",
        "print(quick_sort([5,6,7,8,9,8,7,6,5,6,7,8,9,0]))"
      ],
      "execution_count": null,
      "outputs": [
        {
          "output_type": "stream",
          "text": [
            "[0, 5, 5, 6, 6, 6, 7, 7, 7, 8, 8, 8, 9, 9]\n"
          ],
          "name": "stdout"
        }
      ]
    },
    {
      "cell_type": "code",
      "metadata": {
        "id": "gVWeYRA7xbzq"
      },
      "source": [
        ""
      ],
      "execution_count": null,
      "outputs": []
    },
    {
      "cell_type": "markdown",
      "metadata": {
        "id": "ABWmKkPB4pr6"
      },
      "source": [
        "##Selection sort"
      ]
    },
    {
      "cell_type": "code",
      "metadata": {
        "id": "iSvuJUDq4rVn"
      },
      "source": [
        "def Selectionsort(A):\n",
        "    \n",
        "           \n"
      ],
      "execution_count": null,
      "outputs": []
    },
    {
      "cell_type": "markdown",
      "metadata": {
        "id": "3Gwn5gxAjx9b"
      },
      "source": [
        "##Counting sort"
      ]
    },
    {
      "cell_type": "code",
      "metadata": {
        "id": "AO-aFwl4j0k6"
      },
      "source": [
        "def countingsort(A):\n",
        "    Oarr =  [0 for i in range(256)] \n",
        "    Carr = [0 for i in range(256)]\n",
        "    ans =[\"\" for _ in A]\n",
        "\n",
        "    for i in A:\n",
        "        Carr[ord(i)] += 1\n",
        "    \n",
        "    for i in range(256):\n",
        "        Carr[i] += Carr[i-1]\n",
        "\n",
        "    for i in range(len(A)):\n",
        "        Orr[Carr[ord(A[i])]-1] = A[i]\n",
        "        carr[ord(A[i])] -= 1\n",
        "    \n",
        "    for i in range(len(A)):\n",
        "        ans[i] = Oarr[i]\n",
        "    return ans \n",
        "\n",
        "    "
      ],
      "execution_count": null,
      "outputs": []
    }
  ]
}